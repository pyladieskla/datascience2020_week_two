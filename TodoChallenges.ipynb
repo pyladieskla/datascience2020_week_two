{
 "cells": [
  {
   "cell_type": "markdown",
   "metadata": {},
   "source": [
    "## <b>TODO Challenges</b>"
   ]
  },
  {
   "cell_type": "markdown",
   "metadata": {},
   "source": [
    "<hr>"
   ]
  },
  {
   "cell_type": "markdown",
   "metadata": {},
   "source": [
    "## Quiz on Variables and Expressions"
   ]
  },
  {
   "cell_type": "markdown",
   "metadata": {},
   "source": [
    "Challenge1:Add parentheses to the expression 6 * 1 - 2 to change its value from 4 to -6."
   ]
  },
  {
   "cell_type": "code",
   "execution_count": null,
   "metadata": {},
   "outputs": [],
   "source": [
    "value = 6 * (1-2)\n",
    "# print(value)"
   ]
  },
  {
   "cell_type": "markdown",
   "metadata": {},
   "source": [
    "Challenge2: Take the sentence: All work and no play makes Jack a dull boy. Store each word in a separate variable, then print out the sentence on one line using print."
   ]
  },
  {
   "cell_type": "code",
   "execution_count": null,
   "metadata": {},
   "outputs": [],
   "source": [
    "a, b, c, d, e, f, g, h, i, j = \"All\", \"work\", \"and\", \"no\", \"play\", \"makes\", \"Jack\", \"a\", \"dull\", \"boy\"\n",
    "\n",
    "# print(a + \" \" + b + \" \" + c + \" \" + d + \" \" + e + \" \" + f + \" \" + g + \" \" + h + \" \" + i + \" \" + j + \".\")\n",
    "# print(\"%s %s %s %s %s %s %s %s %s %s.\" % (a, b, c, d, e, f, g, h, i, j))\n",
    "print((\"{} {} {} {} {} {} {} {} {} {}.\").format(a, b, c, d, e, f, g, h, i, j))"
   ]
  },
  {
   "cell_type": "markdown",
   "metadata": {},
   "source": [
    "Challenge3\n",
    "x = 2\n",
    "y = 3\n",
    "z = 4\n",
    "\n",
    "x = x + 1\n",
    "\n",
    "x += 1\n",
    "\n",
    "y = y * 2\n",
    "\n",
    "y *= 2\n",
    "\n",
    "z = z + (y * 2)\n",
    "\n",
    "z += y * 2\n",
    "\n"
   ]
  },
  {
   "cell_type": "markdown",
   "metadata": {},
   "source": [
    "Challenge4: Write a program that calculates the area of a sphere. Where pi(πr) = 3.14 and radius(r) = 8  \n",
    "Formula: V = 4/3 πr³\n"
   ]
  },
  {
   "cell_type": "code",
   "execution_count": null,
   "metadata": {},
   "outputs": [],
   "source": [
    "π = 3.14\n",
    "r = 8\n",
    "V = (4/3) * π * pow(r,3)\n",
    "print(V)\n",
    "\n",
    "# def getArea(r):\n",
    "# V = (4/3) * π * pow(r,3)\n",
    "#     return V\n",
    "# print(getArea(8))\n",
    "\n"
   ]
  },
  {
   "cell_type": "markdown",
   "metadata": {},
   "source": [
    "Challenge5: Create a variable named carname and assign the value Volvo to it. Then print how many characters carname has.  \n",
    "Warning: you cannot write print(5)"
   ]
  },
  {
   "cell_type": "code",
   "execution_count": null,
   "metadata": {},
   "outputs": [],
   "source": [
    "carname = \"Volvo\"\n",
    "noOfChars = len(carname)\n",
    "print(noOfChars)"
   ]
  },
  {
   "cell_type": "markdown",
   "metadata": {},
   "source": [
    "<hr>"
   ]
  },
  {
   "cell_type": "markdown",
   "metadata": {},
   "source": [
    "## Quiz on Conditional Statements"
   ]
  },
  {
   "cell_type": "markdown",
   "metadata": {},
   "source": [
    "Challenge1: Take a student marks, store them in a variable and check the student grade based on below conditions.\n",
    "If marks greater than or equal to 90 grade is \"A\"\n",
    "If marks are in between 80 and 89 (inclusive) then grade is \"B\"\n",
    "If marks are in between 70 and 79 (inclusive) then grade is \"C\"\n",
    "If marks are in between 60 and 79 (inclusive) then grade is \"D\"\n",
    "If marks below 60 then grade is \"F\"\n"
   ]
  },
  {
   "cell_type": "code",
   "execution_count": 1,
   "metadata": {},
   "outputs": [
    {
     "name": "stdout",
     "output_type": "stream",
     "text": [
      "Enter your marks:\n",
      "76\n",
      "Your mark is 76\n",
      "Grade: C\n"
     ]
    }
   ],
   "source": [
    "print(\"Enter your marks:\")\n",
    "marks = int(input())\n",
    "\n",
    "print(\"Your mark is {}\".format(marks))\n",
    "\n",
    "if (60 <= marks <= 69):\n",
    "    grade = \"D\"\n",
    "elif (70 <= marks <= 79):\n",
    "    grade = \"C\"\n",
    "elif (80 <= marks <= 89):\n",
    "    grade = \"B\"\n",
    "elif (marks >= 90):\n",
    "    grade = \"A\"\n",
    "else:\n",
    "    grade = \"F\"\n",
    "    \n",
    "print(\"Grade: {}\".format(grade))"
   ]
  },
  {
   "cell_type": "markdown",
   "metadata": {},
   "source": [
    "Challenge2: You have a adult website. You have to restrict users who are having age under 18 years and old people who are having age above 80 years."
   ]
  },
  {
   "cell_type": "code",
   "execution_count": null,
   "metadata": {},
   "outputs": [],
   "source": [
    "print(\"Enter age\")\n",
    "\n",
    "age = int(input())\n",
    "\n",
    "print(\"Restricted\" if(age < 18 or age > 80) else \"Pass\")"
   ]
  },
  {
   "cell_type": "markdown",
   "metadata": {},
   "source": [
    "<hr>"
   ]
  },
  {
   "cell_type": "markdown",
   "metadata": {},
   "source": [
    "## Quiz on Dictonaries"
   ]
  },
  {
   "cell_type": "markdown",
   "metadata": {},
   "source": [
    "<b>You will need this dictionary for the following questions:</b>  \n",
    "The Students in a certain class: Mary, Kate, John, Pam, Sathe, Bill and Kristy scored the following marks ina test 67, 89, 74, 90, 50, 50 and 65 respectively:\n",
    "\n"
   ]
  },
  {
   "cell_type": "markdown",
   "metadata": {},
   "source": [
    "a) Create a dictionary <code>student_marks_dict</code>."
   ]
  },
  {
   "cell_type": "code",
   "execution_count": null,
   "metadata": {},
   "outputs": [],
   "source": [
    "student_marks_dict = {\"Mary\" : 67, \"Kate\" : 89, \"John\" : 74, \"Pam\" : 90, \"Sathe\" : 50, \"Bill\" : 50, \"Kristy\" : 65}"
   ]
  },
  {
   "cell_type": "markdown",
   "metadata": {},
   "source": [
    "b) Use the dictionary to find the marks scored by Sathe."
   ]
  },
  {
   "cell_type": "code",
   "execution_count": null,
   "metadata": {},
   "outputs": [],
   "source": [
    "student_marks_dict.get(\"Kristy\")\n",
    "# student_marks_dict[\"Kristy\"]"
   ]
  },
  {
   "cell_type": "markdown",
   "metadata": {},
   "source": [
    "c) Find the names of the students from the dictionary."
   ]
  },
  {
   "cell_type": "code",
   "execution_count": null,
   "metadata": {},
   "outputs": [],
   "source": [
    "student_marks_dict.keys()"
   ]
  },
  {
   "cell_type": "markdown",
   "metadata": {},
   "source": [
    "d) Bill's score recorded are incorrect. The correct score is 78.Update Bill's score marks"
   ]
  },
  {
   "cell_type": "code",
   "execution_count": null,
   "metadata": {},
   "outputs": [],
   "source": [
    "student_marks_dict[\"Bill\"] = 78\n",
    "# print(student_marks_dict)"
   ]
  },
  {
   "cell_type": "markdown",
   "metadata": {},
   "source": [
    "<hr>"
   ]
  },
  {
   "cell_type": "markdown",
   "metadata": {},
   "source": [
    "## Quiz on Loops"
   ]
  },
  {
   "cell_type": "markdown",
   "metadata": {},
   "source": [
    "Challenge1: Given a list iterate it and display numbers which are divisible by 5 and if you find number greater than 150 stop the loop iteration.  \n",
    "list1 = [12, 15, 32, 42, 55, 75, 122, 132, 150, 180, 200]"
   ]
  },
  {
   "cell_type": "code",
   "execution_count": null,
   "metadata": {},
   "outputs": [],
   "source": [
    "list1 = [12, 15, 32, 42, 55, 75, 122, 132, 150, 180, 200]\n",
    "[x for x in list1 if (x % 5 == 0)]"
   ]
  },
  {
   "cell_type": "markdown",
   "metadata": {},
   "source": [
    "<hr>"
   ]
  },
  {
   "cell_type": "markdown",
   "metadata": {},
   "source": [
    "## Quiz on Functions"
   ]
  },
  {
   "cell_type": "markdown",
   "metadata": {},
   "source": [
    "Challenge1: Write a function called even that checks whether a number is even or not. If it is even, the function returns true, otherwise it returns false. "
   ]
  },
  {
   "cell_type": "code",
   "execution_count": null,
   "metadata": {},
   "outputs": [],
   "source": [
    "def even(number):\n",
    "    if(number % 2 == 0):\n",
    "        return True\n",
    "    else:\n",
    "        return False\n",
    "# even(9)"
   ]
  },
  {
   "cell_type": "markdown",
   "metadata": {},
   "source": [
    "Challenge2: Write a Python program to filter(even or oddd) a list of integers(20-35) using Lambda.\n",
    "Hint: Use the range() method"
   ]
  },
  {
   "cell_type": "code",
   "execution_count": null,
   "metadata": {},
   "outputs": [],
   "source": [
    "list2 = range(20, 36)\n",
    "filters = filter(lambda x : x % 2 != 0, list2)\n",
    "# print(list(filters))"
   ]
  },
  {
   "cell_type": "code",
   "execution_count": null,
   "metadata": {},
   "outputs": [],
   "source": []
  },
  {
   "cell_type": "code",
   "execution_count": null,
   "metadata": {},
   "outputs": [],
   "source": []
  }
 ],
 "metadata": {
  "kernelspec": {
   "display_name": "Python 3",
   "language": "python",
   "name": "python3"
  },
  "language_info": {
   "codemirror_mode": {
    "name": "ipython",
    "version": 3
   },
   "file_extension": ".py",
   "mimetype": "text/x-python",
   "name": "python",
   "nbconvert_exporter": "python",
   "pygments_lexer": "ipython3",
   "version": "3.8.3"
  }
 },
 "nbformat": 4,
 "nbformat_minor": 4
}
