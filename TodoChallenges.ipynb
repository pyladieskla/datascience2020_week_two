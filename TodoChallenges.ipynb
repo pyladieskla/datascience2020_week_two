{
 "cells": [
  {
   "cell_type": "markdown",
   "metadata": {},
   "source": [
    "## <b>TODO Challenges</b>"
   ]
  },
  {
   "cell_type": "markdown",
   "metadata": {},
   "source": [
    "<hr>"
   ]
  },
  {
   "cell_type": "markdown",
   "metadata": {},
   "source": [
    "## Quiz on Variables and Expressions"
   ]
  },
  {
   "cell_type": "markdown",
   "metadata": {},
   "source": [
    "Challenge1:Add parentheses to the expression 6 * 1 - 2 to change its value from 4 to -6."
   ]
  },
  {
   "cell_type": "code",
   "execution_count": 1,
   "metadata": {},
   "outputs": [
    {
     "data": {
      "text/plain": [
       "-6"
      ]
     },
     "execution_count": 1,
     "metadata": {},
     "output_type": "execute_result"
    }
   ],
   "source": [
    "6 * (1-2)"
   ]
  },
  {
   "cell_type": "markdown",
   "metadata": {},
   "source": [
    "Challenge2: Take the sentence: All work and no play makes Jack a dull boy. Store each word in a separate variable, then print out the sentence on one line using print."
   ]
  },
  {
   "cell_type": "code",
   "execution_count": 2,
   "metadata": {},
   "outputs": [
    {
     "name": "stdout",
     "output_type": "stream",
     "text": [
      "All work and no play makes Jack a dull boy\n"
     ]
    }
   ],
   "source": [
    "original_sentence = \"All work and no play makes Jack a dull boy\"\n",
    "word_one = \"All\"\n",
    "word_two = \"work\"\n",
    "word_three = \"and\"\n",
    "word_four = \"no\"\n",
    "word_five = \"play\"\n",
    "word_six = \"makes\"\n",
    "word_seven = \"Jack\"\n",
    "word_eight = \"a\"\n",
    "word_nine = \"dull\"\n",
    "word_ten = \"boy\"\n",
    "\n",
    "print(word_one, word_two, word_three, word_four, word_five, word_six, word_seven, word_eight, word_nine, word_ten)"
   ]
  },
  {
   "cell_type": "markdown",
   "metadata": {},
   "source": [
    "Challenge3\n",
    "x = 2\n",
    "y = 3\n",
    "z = 4\n",
    "\n",
    "x = x + 1\n",
    "#write here your shorthand notation\n",
    "\n",
    "y = y * 2\n",
    "#write here your shorthand notation\n",
    "\n",
    "z = z + (y * 2)\n",
    "#write here your shorthand notation\n",
    "\n"
   ]
  },
  {
   "cell_type": "markdown",
   "metadata": {},
   "source": [
    "Challenge4: Write a program that calculates the area of a sphere. Where pi(πr) = 3.14 and radius(r) = 8  \n",
    "Formula: V = 4/3 πr³\n"
   ]
  },
  {
   "cell_type": "code",
   "execution_count": 3,
   "metadata": {},
   "outputs": [
    {
     "name": "stdout",
     "output_type": "stream",
     "text": [
      "330.2308693333333\n"
     ]
    }
   ],
   "source": [
    "constant = 4/3\n",
    "pi  = 3.14\n",
    "radius = 8\n",
    "\n",
    "volume = constant * (pi ** 3) * radius\n",
    "print (volume)"
   ]
  },
  {
   "cell_type": "markdown",
   "metadata": {},
   "source": [
    "Challenge5: Create a variable named carname and assign the value Volvo to it. Then print how many characters carname has.  \n",
    "Warning: you cannot write print(5)"
   ]
  },
  {
   "cell_type": "code",
   "execution_count": 4,
   "metadata": {},
   "outputs": [
    {
     "name": "stdout",
     "output_type": "stream",
     "text": [
      "5\n"
     ]
    }
   ],
   "source": [
    "carname = \"volvo\"\n",
    "print(len(carname))"
   ]
  },
  {
   "cell_type": "markdown",
   "metadata": {},
   "source": [
    "<hr>"
   ]
  },
  {
   "cell_type": "markdown",
   "metadata": {},
   "source": [
    "## Quiz on Conditional Statements"
   ]
  },
  {
   "cell_type": "markdown",
   "metadata": {},
   "source": [
    "Challenge1: Take a student marks, store them in a variable and check the student grade based on below conditions.\n",
    "If marks greater than or equal to 90 grade is \"A\"\n",
    "If marks are in between 80 and 89 (inclusive) then grade is \"B\"\n",
    "If marks are in between 70 and 79 (inclusive) then grade is \"C\"\n",
    "If marks are in between 60 and 79 (inclusive) then grade is \"D\"\n",
    "If marks below 60 then grade is \"F\"\n"
   ]
  },
  {
   "cell_type": "code",
   "execution_count": 5,
   "metadata": {},
   "outputs": [
    {
     "name": "stdout",
     "output_type": "stream",
     "text": [
      "Grade: F\n"
     ]
    }
   ],
   "source": [
    "mark = 50\n",
    "if mark >= 90:\n",
    "    print(\"Grade: A\")\n",
    "elif mark >= 80 and mark < 90:\n",
    "    print(\"Grade: B\")\n",
    "elif mark >= 70 and mark < 80:\n",
    "    print(\"Grade: C\")\n",
    "elif mark >= 60 and mark < 70:\n",
    "    print (\"Grade: D\")\n",
    "else:\n",
    "    print(\"Grade: F\")"
   ]
  },
  {
   "cell_type": "markdown",
   "metadata": {},
   "source": [
    "Challenge2: You have a adult website. You have to restrict users who are having age under 18 years and old people who are having age above 80 years."
   ]
  },
  {
   "cell_type": "code",
   "execution_count": 6,
   "metadata": {},
   "outputs": [
    {
     "name": "stdout",
     "output_type": "stream",
     "text": [
      "Access not granted\n"
     ]
    }
   ],
   "source": [
    "age = 90\n",
    "if age < 18:\n",
    "    print(\"Access not granted\")\n",
    "elif age > 80:\n",
    "    print(\"Access not granted\")\n",
    "else:\n",
    "    print(\"Access granted\")"
   ]
  },
  {
   "cell_type": "markdown",
   "metadata": {},
   "source": [
    "<hr>"
   ]
  },
  {
   "cell_type": "markdown",
   "metadata": {},
   "source": [
    "## Quiz on Dictonaries"
   ]
  },
  {
   "cell_type": "markdown",
   "metadata": {},
   "source": [
    "<b>You will need this dictionary for the following questions:</b>  \n",
    "The Students in a certain class: Mary, Kate, John, Pam, Sathe, Bill and Kristy scored the following marks ina test 67, 89, 74, 90, 50, 50 and 65 respectively:\n",
    "\n"
   ]
  },
  {
   "cell_type": "markdown",
   "metadata": {},
   "source": [
    "a) Create a dictionary <code>student_marks_dict</code>."
   ]
  },
  {
   "cell_type": "code",
   "execution_count": 7,
   "metadata": {},
   "outputs": [],
   "source": [
    "student_marks_dict = {\"Mary\": 67, \"Kate\": 89, \"John\": 74, \"Pam\": 90, \"Sathe\": 50, \"Bill\": 50, \"Kristy\": 65}"
   ]
  },
  {
   "cell_type": "markdown",
   "metadata": {},
   "source": [
    "b) Use the dictionary to find the marks scored by Sathe."
   ]
  },
  {
   "cell_type": "code",
   "execution_count": 8,
   "metadata": {},
   "outputs": [
    {
     "name": "stdout",
     "output_type": "stream",
     "text": [
      "50\n"
     ]
    }
   ],
   "source": [
    "student_marks_dict = {\"Mary\": 67, \"Kate\": 89, \"John\": 74, \"Pam\": 90, \"Sathe\": 50, \"Bill\": 50, \"Kristy\": 65}\n",
    "print(student_marks_dict[\"Sathe\"])"
   ]
  },
  {
   "cell_type": "markdown",
   "metadata": {},
   "source": [
    "c) Find the names of the students from the dictionary."
   ]
  },
  {
   "cell_type": "code",
   "execution_count": 9,
   "metadata": {},
   "outputs": [
    {
     "name": "stdout",
     "output_type": "stream",
     "text": [
      "Mary\n",
      "Kate\n",
      "John\n",
      "Pam\n",
      "Sathe\n",
      "Bill\n",
      "Kristy\n"
     ]
    }
   ],
   "source": [
    "student_marks_dict = {\"Mary\": 67, \"Kate\": 89, \"John\": 74, \"Pam\": 90, \"Sathe\": 50, \"Bill\": 50, \"Kristy\": 65}\n",
    "for key in student_marks_dict:\n",
    "    print(key)"
   ]
  },
  {
   "cell_type": "markdown",
   "metadata": {},
   "source": [
    "d) Bill's score recorded are incorrect. The correct score is 78.Update Bill's score marks"
   ]
  },
  {
   "cell_type": "code",
   "execution_count": 10,
   "metadata": {},
   "outputs": [
    {
     "name": "stdout",
     "output_type": "stream",
     "text": [
      "{'Mary': 67, 'Kate': 89, 'John': 74, 'Pam': 90, 'Sathe': 50, 'Bill': 78, 'Kristy': 65}\n"
     ]
    }
   ],
   "source": [
    "student_marks_dict = {\"Mary\": 67, \"Kate\": 89, \"John\": 74, \"Pam\": 90, \"Sathe\": 50, \"Bill\": 50, \"Kristy\": 65}\n",
    "student_marks_dict[\"Bill\"] = 78\n",
    "\n",
    "print(student_marks_dict)"
   ]
  },
  {
   "cell_type": "markdown",
   "metadata": {},
   "source": [
    "<hr>"
   ]
  },
  {
   "cell_type": "markdown",
   "metadata": {},
   "source": [
    "## Quiz on Loops"
   ]
  },
  {
   "cell_type": "markdown",
   "metadata": {},
   "source": [
    "Challenge1: Given a list iterate it and display numbers which are divisible by 5 and if you find number greater than 150 stop the loop iteration.  \n",
    "list1 = [12, 15, 32, 42, 55, 75, 122, 132, 150, 180, 200]"
   ]
  },
  {
   "cell_type": "code",
   "execution_count": 11,
   "metadata": {},
   "outputs": [
    {
     "name": "stdout",
     "output_type": "stream",
     "text": [
      "15\n",
      "55\n",
      "75\n",
      "150\n"
     ]
    }
   ],
   "source": [
    "list1 = [12, 15, 32, 42, 55, 75, 122, 132, 150, 180, 200]\n",
    "\n",
    "count = 0\n",
    "\n",
    "while count < len(list1):\n",
    "    if list1[count] > 150:\n",
    "        break\n",
    "    elif list1[count]%5 == 0:\n",
    "        print(list1[count])\n",
    "    count += 1"
   ]
  },
  {
   "cell_type": "markdown",
   "metadata": {},
   "source": [
    "<hr>"
   ]
  },
  {
   "cell_type": "markdown",
   "metadata": {},
   "source": [
    "## Quiz on Functions"
   ]
  },
  {
   "cell_type": "markdown",
   "metadata": {},
   "source": [
    "Challenge1: Write a function called even that checks whether a number is even or not. If it is even, the function returns true, otherwise it returns false. "
   ]
  },
  {
   "cell_type": "code",
   "execution_count": 12,
   "metadata": {},
   "outputs": [
    {
     "data": {
      "text/plain": [
       "True"
      ]
     },
     "execution_count": 12,
     "metadata": {},
     "output_type": "execute_result"
    }
   ],
   "source": [
    "def even (number):\n",
    "    if number%2 == 0:\n",
    "        return True\n",
    "    else:\n",
    "        return False\n",
    "    \n",
    "even(28)"
   ]
  },
  {
   "cell_type": "markdown",
   "metadata": {},
   "source": [
    "Challenge2: Write a Python program to filter(even or oddd) a list of integers(20-35) using Lambda.\n",
    "Hint: Use the range() method"
   ]
  },
  {
   "cell_type": "code",
   "execution_count": 13,
   "metadata": {},
   "outputs": [
    {
     "name": "stdout",
     "output_type": "stream",
     "text": [
      "[20, 22, 24, 26, 28, 30, 32, 34] [21, 23, 25, 27, 29, 31, 33, 35]\n"
     ]
    }
   ],
   "source": [
    "even_numbers = filter(lambda x: x%2 == 0, range(20,36))\n",
    "odd_numbers = filter(lambda x: x%2 != 0, range(20,36))\n",
    "\n",
    "print(list(even_numbers), list(odd_numbers))"
   ]
  },
  {
   "cell_type": "code",
   "execution_count": null,
   "metadata": {},
   "outputs": [],
   "source": []
  }
 ],
 "metadata": {
  "kernelspec": {
   "display_name": "Python 3",
   "language": "python",
   "name": "python3"
  },
  "language_info": {
   "codemirror_mode": {
    "name": "ipython",
    "version": 3
   },
   "file_extension": ".py",
   "mimetype": "text/x-python",
   "name": "python",
   "nbconvert_exporter": "python",
   "pygments_lexer": "ipython3",
   "version": "3.7.4"
  }
 },
 "nbformat": 4,
 "nbformat_minor": 4
}
