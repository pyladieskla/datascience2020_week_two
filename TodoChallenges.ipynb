{
 "cells": [
  {
   "cell_type": "markdown",
   "metadata": {},
   "source": [
    "## <b>TODO Challenges</b>"
   ]
  },
  {
   "cell_type": "markdown",
   "metadata": {},
   "source": [
    "<hr>"
   ]
  },
  {
   "cell_type": "markdown",
   "metadata": {},
   "source": [
    "## Quiz on Variables and Expressions"
   ]
  },
  {
   "cell_type": "markdown",
   "metadata": {},
   "source": [
    "Challenge1:Add parentheses to the expression 6 * 1 - 2 to change its value from 4 to -6."
   ]
  },
  {
   "cell_type": "code",
   "execution_count": 1,
   "metadata": {},
   "outputs": [
    {
     "data": {
      "text/plain": [
       "-6"
      ]
     },
     "execution_count": 1,
     "metadata": {},
     "output_type": "execute_result"
    }
   ],
   "source": [
    "# Write your answer here\n",
    "6*(1-2)"
   ]
  },
  {
   "cell_type": "markdown",
   "metadata": {},
   "source": [
    "Challenge2: Take the sentence: All work and no play makes Jack a dull boy. Store each word in a separate variable, then print out the sentence on one line using print."
   ]
  },
  {
   "cell_type": "code",
   "execution_count": 4,
   "metadata": {},
   "outputs": [
    {
     "name": "stdout",
     "output_type": "stream",
     "text": [
      "All work and no play makes Jack a dull boy\n"
     ]
    }
   ],
   "source": [
    "# Write your answer here\n",
    "list=\"All work and no play makes Jack a dull boy\".split()\n",
    "a=list[0]\n",
    "b=list[1]\n",
    "c=list[2]\n",
    "d=list[3]\n",
    "e=list[4]\n",
    "f=list[5]\n",
    "g=list[6]\n",
    "h=list[7]\n",
    "i=list[8]\n",
    "j=list[9]\n",
    "print(a +\" \"+b+\" \"+c+\" \"+d+\" \"+e+\" \"+f+\" \"+g+\" \"+h+\" \"+i+\" \"+j)"
   ]
  },
  {
   "cell_type": "markdown",
   "metadata": {},
   "source": [
    "Challenge3\n",
    "x = 2\n",
    "y = 3\n",
    "z = 4\n",
    "\n",
    "x = x + 1\n",
    "#write here your shorthand notation\n",
    "x +=1\n",
    "\n",
    "y = y * 2\n",
    "#write here your shorthand notation\n",
    "y *=2\n",
    "z = z + (y * 2)\n",
    "#write here your shorthand notation\n",
    "z +=(y *=2)\n"
   ]
  },
  {
   "cell_type": "markdown",
   "metadata": {},
   "source": [
    "Challenge4: Write a program that calculates the area of a sphere. Where pi(πr) = 3.14 and radius(r) = 8  \n",
    "Formula: V = 4/3 πr³\n"
   ]
  },
  {
   "cell_type": "code",
   "execution_count": 7,
   "metadata": {},
   "outputs": [
    {
     "data": {
      "text/plain": [
       "267.94666666666666"
      ]
     },
     "execution_count": 7,
     "metadata": {},
     "output_type": "execute_result"
    }
   ],
   "source": [
    "# Write your answer here\n",
    "def areaOfSphere(r):\n",
    "    \n",
    "    A=4/3*(3.14*r*r)\n",
    "    return A\n",
    "areaOfSphere(8)\n",
    "    "
   ]
  },
  {
   "cell_type": "markdown",
   "metadata": {},
   "source": [
    "Challenge5: Create a variable named carname and assign the value Volvo to it. Then print how many characters carname has.  \n",
    "Warning: you cannot write print(5)"
   ]
  },
  {
   "cell_type": "code",
   "execution_count": 9,
   "metadata": {},
   "outputs": [
    {
     "name": "stdout",
     "output_type": "stream",
     "text": [
      "5\n"
     ]
    }
   ],
   "source": [
    "# Write your answer here\n",
    "carname=\"volvo\"\n",
    "print(len(carname))"
   ]
  },
  {
   "cell_type": "markdown",
   "metadata": {},
   "source": [
    "<hr>"
   ]
  },
  {
   "cell_type": "markdown",
   "metadata": {},
   "source": [
    "## Quiz on Conditional Statements"
   ]
  },
  {
   "cell_type": "markdown",
   "metadata": {},
   "source": [
    "Challenge1: Take a student marks, store them in a variable and check the student grade based on below conditions.\n",
    "If marks greater than or equal to 90 grade is \"A\"\n",
    "If marks are in between 80 and 89 (inclusive) then grade is \"B\"\n",
    "If marks are in between 70 and 79 (inclusive) then grade is \"C\"\n",
    "If marks are in between 60 and 79 (inclusive) then grade is \"D\"\n",
    "If marks below 60 then grade is \"F\"\n"
   ]
  },
  {
   "cell_type": "code",
   "execution_count": 51,
   "metadata": {},
   "outputs": [
    {
     "name": "stdout",
     "output_type": "stream",
     "text": [
      "44\n",
      "F\n"
     ]
    }
   ],
   "source": [
    "# Write your answer here\n",
    "marks=int(input())\n",
    "if marks>=90:\n",
    "    grade=\"A\"\n",
    "    print(grade)\n",
    "elif 89>=marks>=80:\n",
    "    grade=\"B\"\n",
    "    print(grade)\n",
    "elif 79>=marks>=70:\n",
    "    grade=\"C\"\n",
    "    print(grade)\n",
    "elif 69>=marks>=60:\n",
    "    grade=\"D\"\n",
    "    print(grade)\n",
    "elif marks<=60:\n",
    "    grade=\"F\"\n",
    "    print(grade)"
   ]
  },
  {
   "cell_type": "markdown",
   "metadata": {},
   "source": [
    "Challenge2: You have a adult website. You have to restrict users who are having age under 18 years and old people who are having age above 80 years."
   ]
  },
  {
   "cell_type": "code",
   "execution_count": 53,
   "metadata": {},
   "outputs": [
    {
     "name": "stdout",
     "output_type": "stream",
     "text": [
      "333\n",
      "You are not of  Age\n"
     ]
    }
   ],
   "source": [
    "# Write your answer\n",
    "age = int(input())\n",
    "if (age <=18 or age >=80):\n",
    "    print(\"You are not of  Age\")\n",
    "else:\n",
    "    print(\"You are of age\")\n"
   ]
  },
  {
   "cell_type": "markdown",
   "metadata": {},
   "source": [
    "<hr>"
   ]
  },
  {
   "cell_type": "markdown",
   "metadata": {},
   "source": [
    "## Quiz on Dictonaries"
   ]
  },
  {
   "cell_type": "markdown",
   "metadata": {},
   "source": [
    "<b>You will need this dictionary for the following questions:</b>  \n",
    "The Students in a certain class: Mary, Kate, John, Pam, Sathe, Bill and Kristy scored the following marks ina test 67, 89, 74, 90, 50, 50 and 65 respectively:\n",
    "\n"
   ]
  },
  {
   "cell_type": "markdown",
   "metadata": {},
   "source": [
    "a) Create a dictionary <code>student_marks_dict</code>."
   ]
  },
  {
   "cell_type": "code",
   "execution_count": 4,
   "metadata": {},
   "outputs": [
    {
     "data": {
      "text/plain": [
       "{'mary': 67,\n",
       " 'kate': 89,\n",
       " 'john': 74,\n",
       " 'pam': 90,\n",
       " 'sathe': 50,\n",
       " 'bill': 50,\n",
       " 'kristy': 65}"
      ]
     },
     "execution_count": 4,
     "metadata": {},
     "output_type": "execute_result"
    }
   ],
   "source": [
    "# Write your answer here\n",
    "student_marks_dict={\n",
    "    \"mary\":67,\n",
    "    \"kate\":89,\n",
    "    \"john\":74,\n",
    "    \"pam\":90,\n",
    "    \"sathe\":50,\n",
    "    \"bill\":50,\n",
    "    \"kristy\":65}  \n",
    "student_marks_dict\n"
   ]
  },
  {
   "cell_type": "markdown",
   "metadata": {},
   "source": [
    "b) Use the dictionary to find the marks scored by Sathe."
   ]
  },
  {
   "cell_type": "code",
   "execution_count": 17,
   "metadata": {},
   "outputs": [
    {
     "data": {
      "text/plain": [
       "50"
      ]
     },
     "execution_count": 17,
     "metadata": {},
     "output_type": "execute_result"
    }
   ],
   "source": [
    "# Write your answer here\n",
    "student_marks_dict[\"sathe\"]"
   ]
  },
  {
   "cell_type": "markdown",
   "metadata": {},
   "source": [
    "c) Find the names of the students from the dictionary."
   ]
  },
  {
   "cell_type": "code",
   "execution_count": 19,
   "metadata": {},
   "outputs": [
    {
     "data": {
      "text/plain": [
       "dict_keys(['mary', 'kate', 'john', 'pam', 'sathe', 'bill', 'kristy'])"
      ]
     },
     "execution_count": 19,
     "metadata": {},
     "output_type": "execute_result"
    }
   ],
   "source": [
    "# Write your answer here\n",
    "student_marks_dict.keys()"
   ]
  },
  {
   "cell_type": "markdown",
   "metadata": {},
   "source": [
    "d) Bill's score recorded are incorrect. The correct score is 78.Update Bill's score marks"
   ]
  },
  {
   "cell_type": "code",
   "execution_count": 22,
   "metadata": {},
   "outputs": [
    {
     "name": "stdout",
     "output_type": "stream",
     "text": [
      "{'mary': 67, 'kate': 89, 'john': 74, 'pam': 90, 'sathe': 50, 'bill': 78, 'kristy': 65}\n"
     ]
    }
   ],
   "source": [
    "# Write your answer here\n",
    "student_marks_dict[\"bill\"]=78\n",
    "print(student_marks_dict)"
   ]
  },
  {
   "cell_type": "markdown",
   "metadata": {},
   "source": [
    "<hr>"
   ]
  },
  {
   "cell_type": "markdown",
   "metadata": {},
   "source": [
    "## Quiz on Loops"
   ]
  },
  {
   "cell_type": "markdown",
   "metadata": {},
   "source": [
    "Challenge1: Given a list iterate it and display numbers which are divisible by 5 and if you find number greater than 150 stop the loop iteration.  \n",
    "list1 = [12, 15, 32, 42, 55, 75, 122, 132, 150, 180, 200]"
   ]
  },
  {
   "cell_type": "code",
   "execution_count": 7,
   "metadata": {},
   "outputs": [
    {
     "name": "stdout",
     "output_type": "stream",
     "text": [
      "15\n",
      "55\n",
      "75\n",
      "150\n"
     ]
    }
   ],
   "source": [
    "# Write your answer here\n",
    "list1 = [12, 15, 32, 42, 55, 75, 122, 132, 150, 180, 200]\n",
    "for num in list1:\n",
    "    if (num<=150 and num%5==0):\n",
    "          print(num)\n",
    "    "
   ]
  },
  {
   "cell_type": "markdown",
   "metadata": {},
   "source": [
    "<hr>"
   ]
  },
  {
   "cell_type": "markdown",
   "metadata": {},
   "source": [
    "## Quiz on Functions"
   ]
  },
  {
   "cell_type": "markdown",
   "metadata": {},
   "source": [
    "Challenge1: Write a function called even that checks whether a number is even or not. If it is even, the function returns true, otherwise it returns false. "
   ]
  },
  {
   "cell_type": "code",
   "execution_count": 54,
   "metadata": {},
   "outputs": [
    {
     "name": "stdout",
     "output_type": "stream",
     "text": [
      "7\n"
     ]
    },
    {
     "data": {
      "text/plain": [
       "'false'"
      ]
     },
     "execution_count": 54,
     "metadata": {},
     "output_type": "execute_result"
    }
   ],
   "source": [
    "# Write your answer here\n",
    "a=int(input())\n",
    "def even(num):\n",
    "    if (num % 2 == 0):\n",
    "        return \"true\"\n",
    "    else:\n",
    "        return \"false\"\n",
    "even(a) "
   ]
  },
  {
   "cell_type": "markdown",
   "metadata": {},
   "source": [
    "\n",
    "Challenge2: Write a Python program to filter(even or oddd) a list of integers(20-35) using Lambda.\n",
    "Hint: Use the range() method"
   ]
  },
  {
   "cell_type": "code",
   "execution_count": 48,
   "metadata": {},
   "outputs": [
    {
     "name": "stdout",
     "output_type": "stream",
     "text": [
      "even\n",
      "odd\n",
      "even\n",
      "odd\n",
      "even\n",
      "odd\n",
      "even\n",
      "odd\n",
      "even\n",
      "odd\n",
      "even\n",
      "odd\n",
      "even\n",
      "odd\n",
      "even\n",
      "odd\n"
     ]
    }
   ],
   "source": [
    "# Write your answer here\n",
    "mylist=list(range(20,36))\n",
    "for i in mylist:\n",
    "    c=lambda i: \"even\" if (i % 2==0) else \"odd\"\n",
    "    print(c(i))\n",
    "    "
   ]
  },
  {
   "cell_type": "code",
   "execution_count": null,
   "metadata": {},
   "outputs": [],
   "source": []
  }
 ],
 "metadata": {
  "kernelspec": {
   "display_name": "Python 3",
   "language": "python",
   "name": "python3"
  },
  "language_info": {
   "codemirror_mode": {
    "name": "ipython",
    "version": 3
   },
   "file_extension": ".py",
   "mimetype": "text/x-python",
   "name": "python",
   "nbconvert_exporter": "python",
   "pygments_lexer": "ipython3",
   "version": "3.8.3"
  }
 },
 "nbformat": 4,
 "nbformat_minor": 4
}
